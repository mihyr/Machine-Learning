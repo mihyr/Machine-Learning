{
 "cells": [
  {
   "cell_type": "markdown",
   "metadata": {},
   "source": [
    "# Digging More Deeply Into Convolutional Networks"
   ]
  },
  {
   "cell_type": "markdown",
   "metadata": {},
   "source": [
    "## Goals\n",
    "\n",
    "In these questions students will have an opportunity to explore what happens when an image goes through a convolutional neural network. Students will do the following:\n",
    "\n",
    "    - Load models into pytorch\n",
    "    - Visualize an image as it passes through the convolutional network\n",
    "    "
   ]
  },
  {
   "cell_type": "markdown",
   "metadata": {},
   "source": [
    "## Dependincies "
   ]
  },
  {
   "cell_type": "code",
   "execution_count": 120,
   "metadata": {},
   "outputs": [],
   "source": [
    "# loading code from the assignment\n",
    "from src.models import Large_Dog_Classifier\n",
    "from data.my_dataset import MyDataset\n",
    "from src.run_model import run_model\n",
    "from data.dogs import DogsDataset\n",
    "from data.my_dataset import MyDataset\n",
    "\n",
    "# torch code that we need\n",
    "import torch\n",
    "import torch.nn as nn\n",
    "import torch.nn.functional as F\n",
    "import numpy as np\n",
    "import matplotlib.pyplot as plt\n",
    "\n",
    "import os"
   ]
  },
  {
   "cell_type": "markdown",
   "metadata": {},
   "source": [
    "## Setup\n",
    "\n",
    "We will be using a pre trained model for this assignment! In the following cell we will load the weights for the pre-trained model. The weights of the model are found in the experiments folder.\n",
    "\n",
    "You will create a new `Large_Dog_Classifier`, then load the saved weights into the model. <a href=\"https://pytorch.org/tutorials/beginner/saving_loading_models.html\">Here is a link to the PyTorch website with more details. </a>"
   ]
  },
  {
   "cell_type": "code",
   "execution_count": 121,
   "metadata": {},
   "outputs": [],
   "source": [
    "# students will specify the file path here\n",
    "model_weights_path = 'experiments/large-CNN'"
   ]
  },
  {
   "cell_type": "code",
   "execution_count": 122,
   "metadata": {
    "scrolled": true
   },
   "outputs": [
    {
     "data": {
      "text/plain": [
       "Large_Dog_Classifier(\n",
       "  (conv1): Conv2d(3, 4, kernel_size=(3, 3), stride=(1, 1), padding=(1, 1))\n",
       "  (conv2): Conv2d(4, 6, kernel_size=(3, 3), stride=(1, 1), padding=(1, 1))\n",
       "  (conv3): Conv2d(6, 8, kernel_size=(3, 3), stride=(1, 1))\n",
       "  (conv4): Conv2d(8, 10, kernel_size=(3, 3), stride=(1, 1))\n",
       "  (conv5): Conv2d(10, 12, kernel_size=(3, 3), stride=(1, 1))\n",
       "  (conv6): Conv2d(12, 14, kernel_size=(3, 3), stride=(1, 1))\n",
       "  (conv7): Conv2d(14, 16, kernel_size=(3, 3), stride=(2, 2))\n",
       "  (fc1): Linear(in_features=11664, out_features=1024, bias=True)\n",
       "  (fc2): Linear(in_features=1024, out_features=10, bias=True)\n",
       ")"
      ]
     },
     "execution_count": 122,
     "metadata": {},
     "output_type": "execute_result"
    }
   ],
   "source": [
    "# Print out the layers of the network\n",
    "device = \"cuda\" if torch.cuda.is_available() else \"cpu\"\n",
    "model = Large_Dog_Classifier().to(device)\n",
    "\n",
    "model.eval()"
   ]
  },
  {
   "cell_type": "code",
   "execution_count": 123,
   "metadata": {},
   "outputs": [
    {
     "name": "stdout",
     "output_type": "stream",
     "text": [
      "loading train...\n",
      "loading valid...\n",
      "loading test...\n"
     ]
    }
   ],
   "source": [
    "# load in the DogSet dataset\n",
    "test_images = DogsDataset('experiments/DogSet')\n",
    "test_images = test_images.get_test_examples()\n"
   ]
  },
  {
   "cell_type": "code",
   "execution_count": 124,
   "metadata": {},
   "outputs": [
    {
     "name": "stderr",
     "output_type": "stream",
     "text": [
      "Clipping input data to the valid range for imshow with RGB data ([0..1] for floats or [0..255] for integers).\n"
     ]
    },
    {
     "data": {
      "text/plain": [
       "<matplotlib.image.AxesImage at 0x7f01ce06eb50>"
      ]
     },
     "execution_count": 124,
     "metadata": {},
     "output_type": "execute_result"
    },
    {
     "data": {
      "image/png": "[encoded data removed]",
      "text/plain": [
       "<Figure size 432x288 with 1 Axes>"
      ]
     },
     "metadata": {
      "needs_background": "light"
     },
     "output_type": "display_data"
    }
   ],
   "source": [
    "plt.imshow(test_images[0][80])"
   ]
  },
  {
   "cell_type": "markdown",
   "metadata": {},
   "source": [
    "# Filter Image\n",
    "Here we load in an image from the test set to visualize it as it passes through the network, try to find a close up of a dog's face for the best results."
   ]
  },
  {
   "cell_type": "code",
   "execution_count": 140,
   "metadata": {},
   "outputs": [
    {
     "name": "stderr",
     "output_type": "stream",
     "text": [
      "Clipping input data to the valid range for imshow with RGB data ([0..1] for floats or [0..255] for integers).\n"
     ]
    },
    {
     "data": {
      "image/png": "[encoded data removed]",
      "text/plain": [
       "<Figure size 432x288 with 1 Axes>"
      ]
     },
     "metadata": {
      "needs_background": "light"
     },
     "output_type": "display_data"
    },
    {
     "name": "stdout",
     "output_type": "stream",
     "text": [
      "torch.Size([1, 64, 64, 3])\n"
     ]
    }
   ],
   "source": [
    "# grab an image from the testing set, it doesn't have to be random.\n",
    "# if you're having trouble finding a good image we found 86,\n",
    "img_num = np.random.randint(86)\n",
    "filter_image = test_images[0][img_num]\n",
    "\n",
    "# we need to put the image into a tensor since the network expects input to come in batches\n",
    "# our batch size will be 1\n",
    "filter_image = torch.tensor([filter_image])\n",
    "\n",
    "# function to plot our image \n",
    "def imshow(img):\n",
    "    npimg = img.numpy()\n",
    "    plt.imshow(npimg)\n",
    "    plt.axis('off')\n",
    "    plt.show()\n",
    "filter_image = filter_image/2 +.5\n",
    "\n",
    "# display the image, students will write this\n",
    "imshow(filter_image[0])\n",
    "print(filter_image.shape)"
   ]
  },
  {
   "cell_type": "markdown",
   "metadata": {},
   "source": [
    "If you filled out the cell above correctly you should see a dog image above"
   ]
  },
  {
   "cell_type": "code",
   "execution_count": 141,
   "metadata": {},
   "outputs": [
    {
     "name": "stdout",
     "output_type": "stream",
     "text": [
      "filter1: (1, 4, 64, 64)\n",
      "filter2: (1, 6, 64, 64)\n"
     ]
    }
   ],
   "source": [
    "# permute the image just as you did in the homework\n",
    "filter_image = filter_image.permute(0, 3, 1, 2)\n",
    "\n",
    "# pass the image through the network and save the output to a variable\n",
    "filter1 = model.conv1(filter_image)\n",
    "filter2 = model.conv2(F.relu(filter1))\n",
    "\n",
    "#we need to detach the gradient variable and convert the tensors to numpy arrays\n",
    "filter1 = filter1.detach().numpy()\n",
    "filter2 = filter2.detach().numpy()\n",
    "\n",
    "# looking at the image shapes here may be helpful in one of the follow up questions\n",
    "print(f'filter1: {filter1.shape}')\n",
    "print(f'filter2: {filter2.shape}')\n",
    "#print(filter1)"
   ]
  },
  {
   "cell_type": "markdown",
   "metadata": {},
   "source": [
    "## Visualizing the filters\n",
    "\n",
    "Here is an included helper function for visualizing the images as they are passed through the network, run this function with your output from the previous cell to see an image pass through the network."
   ]
  },
  {
   "cell_type": "code",
   "execution_count": 144,
   "metadata": {},
   "outputs": [],
   "source": [
    "def graph_filters(filters):\n",
    "    for filter_mat in filters:\n",
    "        channels = filter_mat.shape[1]\n",
    "        display_grid = np.zeros((filter_mat.shape[2], channels * filter_mat.shape[2]))\n",
    "        print(display_grid.shape)\n",
    "        for i in range(channels):\n",
    "            x = filter_mat[0, i, :]\n",
    "            x -= x.mean()\n",
    "            x /= x.std()\n",
    "            x *= 64\n",
    "            x += 128\n",
    "            display_grid[:, i * filter_mat.shape[2] : (i + 1) * filter_mat.shape[2]] = x\n",
    "        \n",
    "        scale = 40. / channels\n",
    "        plt.grid(False)\n",
    "        plt.figure(figsize=(scale * channels, scale))\n",
    "        plt.axis('off')\n",
    "        plt.imshow(display_grid, aspect='auto', cmap='viridis')"
   ]
  },
  {
   "cell_type": "code",
   "execution_count": 146,
   "metadata": {},
   "outputs": [
    {
     "name": "stdout",
     "output_type": "stream",
     "text": [
      "(64, 4096)\n"
     ]
    },
    {
     "data": {
      "image/png": "[encoded data removed]",
      "text/plain": [
       "<Figure size 432x288 with 1 Axes>"
      ]
     },
     "metadata": {
      "needs_background": "light"
     },
     "output_type": "display_data"
    },
    {
     "data": {
      "image/png": "[encoded data removed]",
      "text/plain": [
       "<Figure size 2880x45 with 1 Axes>"
      ]
     },
     "metadata": {
      "needs_background": "light"
     },
     "output_type": "display_data"
    }
   ],
   "source": [
    "# use this function to view the iamges as they are passed through the CNN\n",
    "graph_filters(filter2)"
   ]
  },
  {
   "cell_type": "markdown",
   "metadata": {},
   "source": [
    "## Follow-Up Questions\n",
    "Please explain the following about the ouput and include your graphs in your write-up.\n",
    "\n",
    "    - (a) What does each graph of the seven graphs represent? Why are the images repeated several times on each of the seven graphs?\n",
    "    \n",
    "    - (b) What do light regions of the graphs indicate? Take your best guess on this question, we want you to think about what's happening in a CNN using what you've learned in class. \n",
    "\n",
    "    - (c) What are the ouput dimensons of each of the CNN layers?\n"
   ]
  },
  {
   "cell_type": "code",
   "execution_count": null,
   "metadata": {},
   "outputs": [],
   "source": []
  }
 ],
 "metadata": {
  "kernelspec": {
   "display_name": "Python 3",
   "language": "python",
   "name": "python3"
  },
  "language_info": {
   "codemirror_mode": {
    "name": "ipython",
    "version": 3
   },
   "file_extension": ".py",
   "mimetype": "text/x-python",
   "name": "python",
   "nbconvert_exporter": "python",
   "pygments_lexer": "ipython3",
   "version": "3.8.5"
  }
 },
 "nbformat": 4,
 "nbformat_minor": 4
}
