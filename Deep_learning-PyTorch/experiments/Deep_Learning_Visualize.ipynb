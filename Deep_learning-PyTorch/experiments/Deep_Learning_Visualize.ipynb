{
 "cells": [
  {
   "cell_type": "markdown",
   "metadata": {
    "id": "EW6w8LYN3qXc"
   },
   "source": [
    "# Setup\n"
   ]
  },
  {
   "cell_type": "code",
   "execution_count": 1,
   "metadata": {
    "id": "WOMcKHX0aNqc"
   },
   "outputs": [],
   "source": [
    "import matplotlib.pyplot as plt\n",
    "def plot_data(data,labels):\n",
    "  \"\"\"A helper function to plot our data sets \n",
    "  \n",
    "  PARAMETERS\n",
    "  ----------\n",
    "  data      A numpy array of 2 columns (dimensions) and 2*examples_per_class rows\n",
    "  \n",
    "  labels    A numpy vector with 2*examples_per_class, with a +1 or -1 in each\n",
    "            element. The jth element is the label of the jth example\"\"\"\n",
    "  # plot the data\n",
    "  pos_idx = np.where(labels==1)\n",
    "  neg_idx = np.where(labels==-1)\n",
    "  plt.plot(data.T[0,pos_idx], data.T[1,pos_idx],'r^', data.T[0,neg_idx], data.T[1,neg_idx], 'bo')\n",
    "  plt.axis('equal')"
   ]
  },
  {
   "cell_type": "markdown",
   "metadata": {
    "id": "SAu8MR2t30yx"
   },
   "source": [
    "**Run this to visualize your spiral data**"
   ]
  },
  {
   "cell_type": "code",
   "execution_count": 2,
   "metadata": {
    "colab": {
     "base_uri": "https://localhost:8080/",
     "height": 267
    },
    "id": "dhhZ5qYraBe6",
    "outputId": "4b63fc81-86ae-4cae-8beb-e907637c9f2b"
   },
   "outputs": [
    {
     "data": {
      "image/png": "[encoded data removed]",
      "text/plain": [
       "<Figure size 432x288 with 1 Axes>"
      ]
     },
     "metadata": {
      "needs_background": "light"
     },
     "output_type": "display_data"
    }
   ],
   "source": [
    "import numpy as np\n",
    "from numpy import pi\n",
    "def  make_spiral_data(examples_per_class):\n",
    "  \"\"\"create a 2-dimensional set of points in two interwoven spirals. All elements\n",
    "  in a single spiral share a label (either +1 or -1, depending on the spiral)\n",
    "  \n",
    "  PARAMETERS\n",
    "  ----------\n",
    "  examples_per_class      An integer determining how much data we'll generate\n",
    "\n",
    "  RETURNS\n",
    "  -------\n",
    "  data      A numpy array of 2 columns (dimensions) and 2*examples_per_class rows\n",
    "  \n",
    "  labels    A numpy vector with 2*examples_per_class, with a +1 or -1 in each\n",
    "            element. The jth element is the label of the jth example\"\"\"\n",
    "\n",
    " \n",
    "  theta = np.sqrt(np.random.rand(examples_per_class))*2*pi \n",
    "\n",
    "  # make points in a spiral that have some randomness\n",
    "  r_a = 2*theta + pi\n",
    "  temp = np.array([np.cos(theta)*r_a, np.sin(theta)*r_a]).T\n",
    "  negData = temp + np.random.randn(examples_per_class,2)\n",
    "\n",
    "  # make points in a spiral offset from the first one that have some randomness\n",
    "  r_b = -2*theta - pi\n",
    "  temp = np.array([np.cos(theta)*r_b, np.sin(theta)*r_b]).T\n",
    "  posData = temp + np.random.randn(examples_per_class,2)\n",
    "\n",
    "  # give labels to the data\n",
    "  negL = np.ones(examples_per_class) * -1  \n",
    "  posL = np.ones(examples_per_class)\n",
    "\n",
    "  # return the data \n",
    "  data = np.concatenate([posData, negData])\n",
    "  labels = np.concatenate([posL,negL])\n",
    "\n",
    "  return data, labels\n",
    "\n",
    "# Test it out\n",
    "data, labels = make_spiral_data(100)\n",
    "plot_data(data, labels)\n"
   ]
  },
  {
   "cell_type": "code",
   "execution_count": 3,
   "metadata": {
    "id": "ZX6HiqkwaXFY"
   },
   "outputs": [],
   "source": [
    "def plot_decision_surface(use_model,model=None, perceptron_weights=0, epochs=0, train_accuracy=0, valid_accuracy=0,  axis_limits=[-5,5,-5,5]):\n",
    "  \"\"\" Creates a grid of points, measures what a model would label each \n",
    "   point as, and uses this data to draw a region for class +1 and a region for\n",
    "   class -1. Note...you could borrow this...\n",
    " \n",
    "  PARAMETERS\n",
    "  ----------\n",
    "  use_model   If TRUE, a pytorch model is expected. If FALSE, weights are expected.\n",
    "\n",
    "  model       A pytorch model that can take 2-d real vaued input and produce\n",
    "              a +1 or -1 label for each data point. \n",
    "\n",
    "  weights     A vector of weights for separating hyperplane used in \n",
    "              perceptron_predict(). Note, we're expecting 3 weights here.\n",
    "\n",
    "  axis_limits an array-like object with 4 floats [lowest_horizontal, highest_horizontal,\n",
    "              lowest_vertical, highest_vertical]. This sets the limits over which\n",
    "              the decision surface will be caluclated. \n",
    "\n",
    "  RETURNS\n",
    "  -------\n",
    "  my_contour  a matplotlib.contour.QuadContourSet with the contour\n",
    "  \"\"\"\n",
    "  # Create a grid of points spanning the entire space displayed in the axis.\n",
    "  # This will let us draw the decision boundary later\n",
    "\n",
    "  xx, yy = np.meshgrid(np.arange(axis_limits[0], axis_limits[1], .05),\n",
    "                       np.arange(axis_limits[2], axis_limits[3], .05))\n",
    "  data = np.concatenate([xx.reshape([1,-1]),yy.reshape([1,-1])]).T\n",
    "  \n",
    "  # Predict the class of each point in XGrid, using the classifier.\n",
    "  # This shows our regions determined by the classifier\n",
    "  if use_model == True:\n",
    "    with torch.no_grad():\n",
    "      pl = model(torch.tensor(data).to(dtype=torch.float32))\n",
    "      predicted_labels = np.sign(pl.numpy())\n",
    "  else:\n",
    "    predicted_labels = perceptron_predict(data, perceptron_weights)\n",
    "  \n",
    "  predicted_labels = predicted_labels.reshape(xx.shape)\n",
    "  \n",
    "  # Put the result into a color plot\n",
    "  plt.contourf(xx, yy, predicted_labels, cmap=plt.cm.Paired)\n",
    "  if epochs==0:\n",
    "    before_str = \"Before training: \"\n",
    "  else:\n",
    "    before_str = \"After Training: \"\n",
    "  plt.title(before_str + \"Epochs=\" + str(epochs))\n",
    "  plt.xlabel(\"Train accuracy=\" + str(train_accuracy)+ \" Val accuracy=\" + str(valid_accuracy))\n",
    "  plt.axis('equal')\n",
    "  plt.axis('tight')\n"
   ]
  },
  {
   "cell_type": "code",
   "execution_count": 4,
   "metadata": {
    "id": "4SrQly2mbwro"
   },
   "outputs": [],
   "source": [
    "\n",
    "def train_model(model, data, target):\n",
    "  \"\"\" A simple functon that runs the network model through one epoch of the \n",
    "  training data and then updates the weights to move moodel output closer to the\n",
    "  target output. \n",
    "  \n",
    "  PARAMETERS\n",
    "  ----------\n",
    "  model   a torch.nn.Model\n",
    "  data      a 2-D torch tensor where data[i] contains the ith example.\n",
    "  target    a torch tensor where target[i]  contains the expected output\n",
    "            of the model in response to input data[i]\n",
    "  \"\"\"\n",
    "  # This tells your model that you are in training mode. \n",
    "  # Layers (like dropout, batchnorm) that behave differently\n",
    "  # when training than they do in testing can behave accordingly.   \n",
    "  # It doesn't do much on this model, but you need to do this, as standard\n",
    "  # practice\n",
    "  model.train()\n",
    "\n",
    "  # Set the gradients to 0 before running the net on the data\n",
    "  # so that loss is calculated correctly.\n",
    "  optimizer.zero_grad()\n",
    "\n",
    "  # Get the output of the network on the data \n",
    "  output = model(data)\n",
    "\n",
    "  # Measure the \"loss\" using mean squared error\n",
    "  loss = F.mse_loss(output.squeeze(), target)\n",
    "    \n",
    "  # This calculates the gradients, running backward through the network\n",
    "  loss.backward()\n",
    "\n",
    "  # This updates the network weights \n",
    "  optimizer.step()\n"
   ]
  },
  {
   "cell_type": "code",
   "execution_count": 5,
   "metadata": {
    "id": "Jh-kEVrObxye"
   },
   "outputs": [],
   "source": [
    "\n",
    "def test_model(model, data, target):\n",
    "  \"\"\" A simple functon that prints out the model's loss and accuracy on the \n",
    "  data  \n",
    "  \n",
    "  PARAMETERS\n",
    "  ----------\n",
    "  model     a torch.nn.Model\n",
    "  data      a 2-D torch tensor where data[i] contains the ith example.\n",
    "  target    a torch tensor where target[i]  contains the expected output\n",
    "            of the model in response to input data[i]\n",
    "  \"\"\"\n",
    "  # This puts the network in evaluation mode so things like dropout aren't done\n",
    "  model.eval()\n",
    "\n",
    "  # torch.nograd() tells the system to stop keeping track of gradients (derivatives)\n",
    "  # when performing calculation. This makes things run faster. \n",
    "  with torch.no_grad():\n",
    "    # get the output of the network on a batch of test examples\n",
    "    output = model(data)\n",
    "    output = output.squeeze()\n",
    "    # measure loss \n",
    "    loss = F.mse_loss(output, target)\n",
    "      \n",
    "    # get the prediction of the network\n",
    "    prediction = torch.sign(output)\n",
    "\n",
    "    # measure the accuracy \n",
    "    c = prediction*target\n",
    "    accuracy = torch.mean((c+1)/2)\n",
    "\n",
    "    # lets report \n",
    "    #print('\\nTest set: loss = ', round(loss.item(),4),\n",
    "          #' accuracy = ', round(accuracy.item(),3), '\\n')\n",
    "    return round(accuracy.item(),3), round(loss.item(),4)\n",
    " "
   ]
  },
  {
   "cell_type": "code",
   "execution_count": 6,
   "metadata": {
    "id": "EiB1XKNXbfPv"
   },
   "outputs": [],
   "source": [
    "import torch\n",
    "\n",
    "# Make the data  \n",
    "examples_per_class = 400\n",
    "distance_between_means = 0\n",
    "valid_examples = 100\n",
    "\n",
    "# Create training data and validation data\n",
    "data, label = make_spiral_data(examples_per_class)\n",
    "vData, vLabel = make_spiral_data(valid_examples)\n",
    "\n",
    "# Convert training data and validation data to PyTorch tensors (necessary for training)\n",
    "dataT = torch.tensor(data).to(dtype=torch.float32)\n",
    "labelT = torch.tensor(label).to(dtype=torch.float32)\n",
    "dataV = torch.tensor(vData).to(dtype=torch.float32)\n",
    "labelV = torch.tensor(vLabel).to(dtype=torch.float32)\n",
    " "
   ]
  },
  {
   "cell_type": "markdown",
   "metadata": {
    "id": "2Y-koJX44F-H"
   },
   "source": [
    "# Build and train your spiral classifier\n"
   ]
  },
  {
   "cell_type": "markdown",
   "metadata": {
    "id": "FK6gaF6-4a2E"
   },
   "source": [
    "**Build a network**"
   ]
  },
  {
   "cell_type": "code",
   "execution_count": 58,
   "metadata": {
    "id": "GXA4oLuIb_b-"
   },
   "outputs": [],
   "source": [
    "import torch.nn as nn\n",
    "import torch.nn.functional as F\n",
    "import torch.optim as optim\n",
    "\n",
    "class Net(nn.Module):\n",
    "  \"\"\"\n",
    "\n",
    "  Neural Network for spiral data. Your network code goes here\n",
    "\n",
    "  \"\"\"\n",
    "  # this bit determines the architecture of each layer...but not how data flows\n",
    "  def __init__(self):\n",
    "    super(Net, self).__init__() # has to be here\n",
    "    # your code here\n",
    "    self.flatten = nn.Flatten()\n",
    "    self.ip_nodes = 1600\n",
    "    self.fl_nodes = 800\n",
    "    self.sl_nodes = 400\n",
    "    self.op_nodes = 4\n",
    "    self.first_hl = nn.Linear(self.ip_nodes ,self.fl_nodes)\n",
    "    self.second_hl = nn.Linear(self.fl_nodes,self.sl_nodes)\n",
    "    self.op = nn.Linear(self.sl_nodes, self.op_nodes)\n",
    "  def forward(self, inputs):\n",
    "    ip_reshaped = inputs.reshape(-1,400)\n",
    "    ip_L1 = self.first_hl(ip_reshaped)\n",
    "    ip_relu = F.relu(ip_L1)\n",
    "    ip_L2 = self.second_hl(ip_relu)\n",
    "    ip_relu2 = F.relu(ip_L2)\n",
    "    op_fwd = self.op(ip_relu2)\n",
    "    return op_fwd\n"
   ]
  },
  {
   "cell_type": "markdown",
   "metadata": {
    "id": "9OvlvK7W4MeS"
   },
   "source": [
    "**Code to initialize parameters and train model**"
   ]
  },
  {
   "cell_type": "code",
   "execution_count": 59,
   "metadata": {
    "colab": {
     "base_uri": "https://localhost:8080/",
     "height": 480
    },
    "id": "8hYhcPzCbefW",
    "outputId": "ced4152d-b677-4f57-c395-4139e6da43bc"
   },
   "outputs": [
    {
     "ename": "RuntimeError",
     "evalue": "mat1 and mat2 shapes cannot be multiplied (4x400 and 1600x800)",
     "output_type": "error",
     "traceback": [
      "\u001b[0;31m--------------------------------------------------------------------------\u001b[0m",
      "\u001b[0;31mRuntimeError\u001b[0m                             Traceback (most recent call last)",
      "\u001b[0;32m<ipython-input-59-ecf953bb7b6c>\u001b[0m in \u001b[0;36m<module>\u001b[0;34m\u001b[0m\n\u001b[1;32m     18\u001b[0m \u001b[0max1\u001b[0m\u001b[0;34m=\u001b[0m\u001b[0mplot_data\u001b[0m\u001b[0;34m(\u001b[0m\u001b[0mdataT\u001b[0m\u001b[0;34m,\u001b[0m\u001b[0mlabelT\u001b[0m\u001b[0;34m)\u001b[0m\u001b[0;34m\u001b[0m\u001b[0;34m\u001b[0m\u001b[0m\n\u001b[1;32m     19\u001b[0m \u001b[0mxmin\u001b[0m\u001b[0;34m,\u001b[0m\u001b[0mxmax\u001b[0m\u001b[0;34m,\u001b[0m\u001b[0mymin\u001b[0m\u001b[0;34m,\u001b[0m\u001b[0mymax\u001b[0m\u001b[0;34m=\u001b[0m\u001b[0mplt\u001b[0m\u001b[0;34m.\u001b[0m\u001b[0maxis\u001b[0m\u001b[0;34m(\u001b[0m\u001b[0;34m)\u001b[0m\u001b[0;34m\u001b[0m\u001b[0;34m\u001b[0m\u001b[0m\n\u001b[0;32m---> 20\u001b[0;31m \u001b[0maccuracy\u001b[0m\u001b[0;34m,\u001b[0m\u001b[0m_loss\u001b[0m\u001b[0;34m=\u001b[0m\u001b[0mtest_model\u001b[0m\u001b[0;34m(\u001b[0m\u001b[0mmodelo\u001b[0m\u001b[0;34m,\u001b[0m \u001b[0mdataT\u001b[0m\u001b[0;34m,\u001b[0m \u001b[0mlabelT\u001b[0m\u001b[0;34m)\u001b[0m\u001b[0;34m\u001b[0m\u001b[0;34m\u001b[0m\u001b[0m\n\u001b[0m\u001b[1;32m     21\u001b[0m \u001b[0mvalid\u001b[0m\u001b[0;34m,\u001b[0m \u001b[0m_loss\u001b[0m \u001b[0;34m=\u001b[0m \u001b[0mtest_model\u001b[0m\u001b[0;34m(\u001b[0m\u001b[0mmodelo\u001b[0m\u001b[0;34m,\u001b[0m \u001b[0mdataV\u001b[0m\u001b[0;34m,\u001b[0m \u001b[0mlabelV\u001b[0m\u001b[0;34m)\u001b[0m\u001b[0;34m\u001b[0m\u001b[0;34m\u001b[0m\u001b[0m\n\u001b[1;32m     22\u001b[0m \u001b[0max1\u001b[0m\u001b[0;34m=\u001b[0m \u001b[0mplot_decision_surface\u001b[0m\u001b[0;34m(\u001b[0m\u001b[0muse_model\u001b[0m\u001b[0;34m=\u001b[0m\u001b[0;32mTrue\u001b[0m\u001b[0;34m,\u001b[0m \u001b[0mmodel\u001b[0m\u001b[0;34m=\u001b[0m\u001b[0mmodelo\u001b[0m\u001b[0;34m,\u001b[0m \u001b[0maxis_limits\u001b[0m\u001b[0;34m=\u001b[0m\u001b[0;34m[\u001b[0m\u001b[0mxmin\u001b[0m\u001b[0;34m*\u001b[0m\u001b[0mscale\u001b[0m\u001b[0;34m,\u001b[0m\u001b[0mxmax\u001b[0m\u001b[0;34m*\u001b[0m\u001b[0mscale\u001b[0m\u001b[0;34m,\u001b[0m\u001b[0mymin\u001b[0m\u001b[0;34m*\u001b[0m\u001b[0mscale\u001b[0m\u001b[0;34m,\u001b[0m\u001b[0mymax\u001b[0m\u001b[0;34m*\u001b[0m\u001b[0mscale\u001b[0m\u001b[0;34m]\u001b[0m\u001b[0;34m,\u001b[0m\u001b[0mepochs\u001b[0m\u001b[0;34m=\u001b[0m\u001b[0;36m0\u001b[0m\u001b[0;34m,\u001b[0m\u001b[0mtrain_accuracy\u001b[0m\u001b[0;34m=\u001b[0m\u001b[0maccuracy\u001b[0m\u001b[0;34m,\u001b[0m \u001b[0mvalid_accuracy\u001b[0m\u001b[0;34m=\u001b[0m \u001b[0mvalid\u001b[0m\u001b[0;34m)\u001b[0m\u001b[0;34m\u001b[0m\u001b[0;34m\u001b[0m\u001b[0m\n",
      "\u001b[0;32m<ipython-input-5-a5e9f128774b>\u001b[0m in \u001b[0;36mtest_model\u001b[0;34m(model, data, target)\u001b[0m\n\u001b[1;32m     17\u001b[0m   \u001b[0;32mwith\u001b[0m \u001b[0mtorch\u001b[0m\u001b[0;34m.\u001b[0m\u001b[0mno_grad\u001b[0m\u001b[0;34m(\u001b[0m\u001b[0;34m)\u001b[0m\u001b[0;34m:\u001b[0m\u001b[0;34m\u001b[0m\u001b[0;34m\u001b[0m\u001b[0m\n\u001b[1;32m     18\u001b[0m     \u001b[0;31m# get the output of the network on a batch of test examples\u001b[0m\u001b[0;34m\u001b[0m\u001b[0;34m\u001b[0m\u001b[0;34m\u001b[0m\u001b[0m\n\u001b[0;32m---> 19\u001b[0;31m     \u001b[0moutput\u001b[0m \u001b[0;34m=\u001b[0m \u001b[0mmodel\u001b[0m\u001b[0;34m(\u001b[0m\u001b[0mdata\u001b[0m\u001b[0;34m)\u001b[0m\u001b[0;34m\u001b[0m\u001b[0;34m\u001b[0m\u001b[0m\n\u001b[0m\u001b[1;32m     20\u001b[0m     \u001b[0moutput\u001b[0m \u001b[0;34m=\u001b[0m \u001b[0moutput\u001b[0m\u001b[0;34m.\u001b[0m\u001b[0msqueeze\u001b[0m\u001b[0;34m(\u001b[0m\u001b[0;34m)\u001b[0m\u001b[0;34m\u001b[0m\u001b[0;34m\u001b[0m\u001b[0m\n\u001b[1;32m     21\u001b[0m     \u001b[0;31m# measure loss\u001b[0m\u001b[0;34m\u001b[0m\u001b[0;34m\u001b[0m\u001b[0;34m\u001b[0m\u001b[0m\n",
      "\u001b[0;32m~/.local/lib/python3.8/site-packages/torch/nn/modules/module.py\u001b[0m in \u001b[0;36m_call_impl\u001b[0;34m(self, *input, **kwargs)\u001b[0m\n\u001b[1;32m    887\u001b[0m             \u001b[0mresult\u001b[0m \u001b[0;34m=\u001b[0m \u001b[0mself\u001b[0m\u001b[0;34m.\u001b[0m\u001b[0m_slow_forward\u001b[0m\u001b[0;34m(\u001b[0m\u001b[0;34m*\u001b[0m\u001b[0minput\u001b[0m\u001b[0;34m,\u001b[0m \u001b[0;34m**\u001b[0m\u001b[0mkwargs\u001b[0m\u001b[0;34m)\u001b[0m\u001b[0;34m\u001b[0m\u001b[0;34m\u001b[0m\u001b[0m\n\u001b[1;32m    888\u001b[0m         \u001b[0;32melse\u001b[0m\u001b[0;34m:\u001b[0m\u001b[0;34m\u001b[0m\u001b[0;34m\u001b[0m\u001b[0m\n\u001b[0;32m--> 889\u001b[0;31m             \u001b[0mresult\u001b[0m \u001b[0;34m=\u001b[0m \u001b[0mself\u001b[0m\u001b[0;34m.\u001b[0m\u001b[0mforward\u001b[0m\u001b[0;34m(\u001b[0m\u001b[0;34m*\u001b[0m\u001b[0minput\u001b[0m\u001b[0;34m,\u001b[0m \u001b[0;34m**\u001b[0m\u001b[0mkwargs\u001b[0m\u001b[0;34m)\u001b[0m\u001b[0;34m\u001b[0m\u001b[0;34m\u001b[0m\u001b[0m\n\u001b[0m\u001b[1;32m    890\u001b[0m         for hook in itertools.chain(\n\u001b[1;32m    891\u001b[0m                 \u001b[0m_global_forward_hooks\u001b[0m\u001b[0;34m.\u001b[0m\u001b[0mvalues\u001b[0m\u001b[0;34m(\u001b[0m\u001b[0;34m)\u001b[0m\u001b[0;34m,\u001b[0m\u001b[0;34m\u001b[0m\u001b[0;34m\u001b[0m\u001b[0m\n",
      "\u001b[0;32m<ipython-input-58-7e1064862c06>\u001b[0m in \u001b[0;36mforward\u001b[0;34m(self, inputs)\u001b[0m\n\u001b[1;32m     23\u001b[0m   \u001b[0;32mdef\u001b[0m \u001b[0mforward\u001b[0m\u001b[0;34m(\u001b[0m\u001b[0mself\u001b[0m\u001b[0;34m,\u001b[0m \u001b[0minputs\u001b[0m\u001b[0;34m)\u001b[0m\u001b[0;34m:\u001b[0m\u001b[0;34m\u001b[0m\u001b[0;34m\u001b[0m\u001b[0m\n\u001b[1;32m     24\u001b[0m     \u001b[0mip_reshaped\u001b[0m \u001b[0;34m=\u001b[0m \u001b[0minputs\u001b[0m\u001b[0;34m.\u001b[0m\u001b[0mreshape\u001b[0m\u001b[0;34m(\u001b[0m\u001b[0;34m-\u001b[0m\u001b[0;36m1\u001b[0m\u001b[0;34m,\u001b[0m\u001b[0;36m400\u001b[0m\u001b[0;34m)\u001b[0m\u001b[0;34m\u001b[0m\u001b[0;34m\u001b[0m\u001b[0m\n\u001b[0;32m---> 25\u001b[0;31m     \u001b[0mip_L1\u001b[0m \u001b[0;34m=\u001b[0m \u001b[0mself\u001b[0m\u001b[0;34m.\u001b[0m\u001b[0mfirst_hl\u001b[0m\u001b[0;34m(\u001b[0m\u001b[0mip_reshaped\u001b[0m\u001b[0;34m)\u001b[0m\u001b[0;34m\u001b[0m\u001b[0;34m\u001b[0m\u001b[0m\n\u001b[0m\u001b[1;32m     26\u001b[0m     \u001b[0mip_relu\u001b[0m \u001b[0;34m=\u001b[0m \u001b[0mF\u001b[0m\u001b[0;34m.\u001b[0m\u001b[0mrelu\u001b[0m\u001b[0;34m(\u001b[0m\u001b[0mip_L1\u001b[0m\u001b[0;34m)\u001b[0m\u001b[0;34m\u001b[0m\u001b[0;34m\u001b[0m\u001b[0m\n\u001b[1;32m     27\u001b[0m     \u001b[0mip_L2\u001b[0m \u001b[0;34m=\u001b[0m \u001b[0mself\u001b[0m\u001b[0;34m.\u001b[0m\u001b[0msecond_hl\u001b[0m\u001b[0;34m(\u001b[0m\u001b[0mip_relu\u001b[0m\u001b[0;34m)\u001b[0m\u001b[0;34m\u001b[0m\u001b[0;34m\u001b[0m\u001b[0m\n",
      "\u001b[0;32m~/.local/lib/python3.8/site-packages/torch/nn/modules/module.py\u001b[0m in \u001b[0;36m_call_impl\u001b[0;34m(self, *input, **kwargs)\u001b[0m\n\u001b[1;32m    887\u001b[0m             \u001b[0mresult\u001b[0m \u001b[0;34m=\u001b[0m \u001b[0mself\u001b[0m\u001b[0;34m.\u001b[0m\u001b[0m_slow_forward\u001b[0m\u001b[0;34m(\u001b[0m\u001b[0;34m*\u001b[0m\u001b[0minput\u001b[0m\u001b[0;34m,\u001b[0m \u001b[0;34m**\u001b[0m\u001b[0mkwargs\u001b[0m\u001b[0;34m)\u001b[0m\u001b[0;34m\u001b[0m\u001b[0;34m\u001b[0m\u001b[0m\n\u001b[1;32m    888\u001b[0m         \u001b[0;32melse\u001b[0m\u001b[0;34m:\u001b[0m\u001b[0;34m\u001b[0m\u001b[0;34m\u001b[0m\u001b[0m\n\u001b[0;32m--> 889\u001b[0;31m             \u001b[0mresult\u001b[0m \u001b[0;34m=\u001b[0m \u001b[0mself\u001b[0m\u001b[0;34m.\u001b[0m\u001b[0mforward\u001b[0m\u001b[0;34m(\u001b[0m\u001b[0;34m*\u001b[0m\u001b[0minput\u001b[0m\u001b[0;34m,\u001b[0m \u001b[0;34m**\u001b[0m\u001b[0mkwargs\u001b[0m\u001b[0;34m)\u001b[0m\u001b[0;34m\u001b[0m\u001b[0;34m\u001b[0m\u001b[0m\n\u001b[0m\u001b[1;32m    890\u001b[0m         for hook in itertools.chain(\n\u001b[1;32m    891\u001b[0m                 \u001b[0m_global_forward_hooks\u001b[0m\u001b[0;34m.\u001b[0m\u001b[0mvalues\u001b[0m\u001b[0;34m(\u001b[0m\u001b[0;34m)\u001b[0m\u001b[0;34m,\u001b[0m\u001b[0;34m\u001b[0m\u001b[0;34m\u001b[0m\u001b[0m\n",
      "\u001b[0;32m~/.local/lib/python3.8/site-packages/torch/nn/modules/linear.py\u001b[0m in \u001b[0;36mforward\u001b[0;34m(self, input)\u001b[0m\n\u001b[1;32m     92\u001b[0m \u001b[0;34m\u001b[0m\u001b[0m\n\u001b[1;32m     93\u001b[0m     \u001b[0;32mdef\u001b[0m \u001b[0mforward\u001b[0m\u001b[0;34m(\u001b[0m\u001b[0mself\u001b[0m\u001b[0;34m,\u001b[0m \u001b[0minput\u001b[0m\u001b[0;34m:\u001b[0m \u001b[0mTensor\u001b[0m\u001b[0;34m)\u001b[0m \u001b[0;34m->\u001b[0m \u001b[0mTensor\u001b[0m\u001b[0;34m:\u001b[0m\u001b[0;34m\u001b[0m\u001b[0;34m\u001b[0m\u001b[0m\n\u001b[0;32m---> 94\u001b[0;31m         \u001b[0;32mreturn\u001b[0m \u001b[0mF\u001b[0m\u001b[0;34m.\u001b[0m\u001b[0mlinear\u001b[0m\u001b[0;34m(\u001b[0m\u001b[0minput\u001b[0m\u001b[0;34m,\u001b[0m \u001b[0mself\u001b[0m\u001b[0;34m.\u001b[0m\u001b[0mweight\u001b[0m\u001b[0;34m,\u001b[0m \u001b[0mself\u001b[0m\u001b[0;34m.\u001b[0m\u001b[0mbias\u001b[0m\u001b[0;34m)\u001b[0m\u001b[0;34m\u001b[0m\u001b[0;34m\u001b[0m\u001b[0m\n\u001b[0m\u001b[1;32m     95\u001b[0m \u001b[0;34m\u001b[0m\u001b[0m\n\u001b[1;32m     96\u001b[0m     \u001b[0;32mdef\u001b[0m \u001b[0mextra_repr\u001b[0m\u001b[0;34m(\u001b[0m\u001b[0mself\u001b[0m\u001b[0;34m)\u001b[0m \u001b[0;34m->\u001b[0m \u001b[0mstr\u001b[0m\u001b[0;34m:\u001b[0m\u001b[0;34m\u001b[0m\u001b[0;34m\u001b[0m\u001b[0m\n",
      "\u001b[0;32m~/.local/lib/python3.8/site-packages/torch/nn/functional.py\u001b[0m in \u001b[0;36mlinear\u001b[0;34m(input, weight, bias)\u001b[0m\n\u001b[1;32m   1751\u001b[0m     \u001b[0;32mif\u001b[0m \u001b[0mhas_torch_function_variadic\u001b[0m\u001b[0;34m(\u001b[0m\u001b[0minput\u001b[0m\u001b[0;34m,\u001b[0m \u001b[0mweight\u001b[0m\u001b[0;34m)\u001b[0m\u001b[0;34m:\u001b[0m\u001b[0;34m\u001b[0m\u001b[0;34m\u001b[0m\u001b[0m\n\u001b[1;32m   1752\u001b[0m         \u001b[0;32mreturn\u001b[0m \u001b[0mhandle_torch_function\u001b[0m\u001b[0;34m(\u001b[0m\u001b[0mlinear\u001b[0m\u001b[0;34m,\u001b[0m \u001b[0;34m(\u001b[0m\u001b[0minput\u001b[0m\u001b[0;34m,\u001b[0m \u001b[0mweight\u001b[0m\u001b[0;34m)\u001b[0m\u001b[0;34m,\u001b[0m \u001b[0minput\u001b[0m\u001b[0;34m,\u001b[0m \u001b[0mweight\u001b[0m\u001b[0;34m,\u001b[0m \u001b[0mbias\u001b[0m\u001b[0;34m=\u001b[0m\u001b[0mbias\u001b[0m\u001b[0;34m)\u001b[0m\u001b[0;34m\u001b[0m\u001b[0;34m\u001b[0m\u001b[0m\n\u001b[0;32m-> 1753\u001b[0;31m     \u001b[0;32mreturn\u001b[0m \u001b[0mtorch\u001b[0m\u001b[0;34m.\u001b[0m\u001b[0m_C\u001b[0m\u001b[0;34m.\u001b[0m\u001b[0m_nn\u001b[0m\u001b[0;34m.\u001b[0m\u001b[0mlinear\u001b[0m\u001b[0;34m(\u001b[0m\u001b[0minput\u001b[0m\u001b[0;34m,\u001b[0m \u001b[0mweight\u001b[0m\u001b[0;34m,\u001b[0m \u001b[0mbias\u001b[0m\u001b[0;34m)\u001b[0m\u001b[0;34m\u001b[0m\u001b[0;34m\u001b[0m\u001b[0m\n\u001b[0m\u001b[1;32m   1754\u001b[0m \u001b[0;34m\u001b[0m\u001b[0m\n\u001b[1;32m   1755\u001b[0m \u001b[0;34m\u001b[0m\u001b[0m\n",
      "\u001b[0;31mRuntimeError\u001b[0m: mat1 and mat2 shapes cannot be multiplied (4x400 and 1600x800)"
     ]
    },
    {
     "data": {
      "image/png": "[encoded data removed]",
      "text/plain": [
       "<Figure size 2000x500 with 1 Axes>"
      ]
     },
     "metadata": {},
     "output_type": "display_data"
    }
   ],
   "source": [
    "# Initialize Parameters\n",
    "modelo = Net()\n",
    "#print(modelo.parameters())\n",
    "optimizer = optim.SGD(modelo.parameters(), lr=0.01,momentum=0.9)\n",
    "\n",
    "#Train Model\n",
    "\n",
    "loss_fn = nn.CrossEntropyLoss()\n",
    "\n",
    "\n",
    "\n",
    "# Change this parameter\n",
    "scale = 3\n",
    "\n",
    "# Plot Results\n",
    "fig = plt.figure(figsize=(20,5),dpi=100, facecolor='w',edgecolor='k')\n",
    "ax1= plt.subplot(1,4,1)\n",
    "ax1=plot_data(dataT,labelT)\n",
    "xmin,xmax,ymin,ymax=plt.axis()\n",
    "accuracy,_loss=test_model(modelo, dataT, labelT)\n",
    "valid, _loss = test_model(modelo, dataV, labelV)\n",
    "ax1= plot_decision_surface(use_model=True, model=modelo, axis_limits=[xmin*scale,xmax*scale,ymin*scale,ymax*scale],epochs=0,train_accuracy=accuracy, valid_accuracy= valid)\n",
    "\n",
    "\n",
    "# measure model accuracy\n",
    "\n",
    "epochs = 500\n",
    "\n",
    "valid_loss =[0] * 500\n",
    "train_loss = [0] * 500\n",
    "valid_acc =[0] * 500\n",
    "train_acc = [0] * 500\n",
    "\n",
    "for i in range(0,epochs):\n",
    "  train_model(modelo,dataT,labelT)\n",
    "  train_acc[i], train_loss[i] = test_model(modelo,dataT,labelT)\n",
    "  valid_acc[i], valid_loss[i] = test_model(modelo,dataV,labelV)\n",
    "\n",
    "\n",
    "ax2= plt.subplot(1,4,2)\n",
    "ax2= plot_data(dataT,labelT)\n",
    "accuracy, _loss = test_model(modelo,dataT,labelT)\n",
    "valid, _loss= test_model(modelo,dataV,labelV)\n",
    "ax2= plot_decision_surface(use_model=True, model=modelo, axis_limits=[xmin*scale,xmax*scale,ymin*scale,ymax*scale], epochs=epochs, valid_accuracy=valid, train_accuracy=accuracy)\n",
    "\n",
    "\n",
    "ax3= plt.subplot(1,4,3)\n",
    "ax3 = plt.plot(np.linspace(0,500,num=500), train_acc, 'r', np.linspace(0,500,num=500), valid_acc, 'b')\n",
    "ax3= plt.title('red: training accuracy, blue: validation accuracy')\n",
    "\n",
    "ax4= plt.subplot(1,4,4)\n",
    "ax3 = plt.plot(np.linspace(0,500,num=500), train_loss, 'r', np.linspace(0,500,num=500), valid_loss, 'b' )\n",
    "ax3= plt.title('red: training loss, blue:validation loss')\n",
    "\n"
   ]
  },
  {
   "cell_type": "code",
   "execution_count": null,
   "metadata": {},
   "outputs": [],
   "source": []
  },
  {
   "cell_type": "code",
   "execution_count": null,
   "metadata": {},
   "outputs": [],
   "source": []
  }
 ],
 "metadata": {
  "colab": {
   "collapsed_sections": [],
   "name": "Deep_Learning_Visualize",
   "provenance": []
  },
  "kernelspec": {
   "display_name": "Python 3",
   "language": "python",
   "name": "python3"
  },
  "language_info": {
   "codemirror_mode": {
    "name": "ipython",
    "version": 3
   },
   "file_extension": ".py",
   "mimetype": "text/x-python",
   "name": "python",
   "nbconvert_exporter": "python",
   "pygments_lexer": "ipython3",
   "version": "3.8.5"
  }
 },
 "nbformat": 4,
 "nbformat_minor": 4
}
